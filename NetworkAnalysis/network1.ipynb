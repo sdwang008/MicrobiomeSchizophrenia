{
 "cells": [
  {
   "cell_type": "markdown",
   "id": "a96b77fd",
   "metadata": {},
   "source": [
    "## Setup"
   ]
  },
  {
   "cell_type": "code",
   "execution_count": 1,
   "id": "0cfa9719-9bfe-431d-aee0-62f354dca33a",
   "metadata": {},
   "outputs": [],
   "source": [
    "%matplotlib inline\n",
    "import pandas as pd\n",
    "import matplotlib.pyplot as plt\n",
    "import numpy as np\n",
    "import networkx as nx\n",
    "import itertools\n",
    "from collections import Counter\n",
    "from networkx.drawing.nx_agraph import graphviz_layout\n",
    "from skbio.stats.composition import ilr\n",
    "from skbio.stats.composition import clr\n",
    "from skbio.stats.composition import multiplicative_replacement\n",
    "import seaborn as sns\n",
    "from matplotlib import rcParams\n",
    "sns.set()\n",
    "sns.set(font_scale=1.5)"
   ]
  },
  {
   "cell_type": "markdown",
   "id": "a63366a3",
   "metadata": {},
   "source": [
    "## Filter Incompletely Assigned Taxons"
   ]
  },
  {
   "cell_type": "code",
   "execution_count": 2,
   "id": "f3c324bc-bcac-4884-b2c1-4fdf67f5b03d",
   "metadata": {},
   "outputs": [
    {
     "name": "stdout",
     "output_type": "stream",
     "text": [
      "341\n",
      "221\n"
     ]
    }
   ],
   "source": [
    "df = pd.read_csv('data/genus-normalized-table.csv', header=0)\n",
    "print(len(df.columns))\n",
    "diag = df['diagnosis']\n",
    "taxtokeep = []\n",
    "for c in df.columns:\n",
    "    if 'g__' in c:\n",
    "        genus = c.split('g__')[-1]\n",
    "        if genus != '':\n",
    "            taxtokeep.append(c)\n",
    "df = df[taxtokeep]\n",
    "df['diagnosis'] = diag\n",
    "\n",
    "names = {x:x.replace(\"[\",\"\").replace(\"]\",\"\") for x in df.columns}\n",
    "df.rename(names, axis=1, inplace=True)\n",
    "df = df.groupby(df.columns, axis=1).sum()\n",
    "print(len(df.columns))\n",
    "df.to_csv('data/genus-table-final.csv', index=False)\n",
    "\n",
    "# rename = {}\n",
    "# for c in df.columns:\n",
    "#     rename[c] = c.split('g__')[-1]\n",
    "# df = df.rename(rename, axis=1)\n",
    "# df['diagnosis'] = diag\n",
    "# df.to_csv('temp.csv', index=False)"
   ]
  },
  {
   "cell_type": "markdown",
   "id": "5ee4e20e",
   "metadata": {},
   "source": [
    "## Split Groups, Filter Bad Columns and Filter by Prevalence"
   ]
  },
  {
   "cell_type": "code",
   "execution_count": 3,
   "id": "48f6b299-8623-4041-9cd7-39b7cba76858",
   "metadata": {},
   "outputs": [],
   "source": [
    "def filterNoise(df):\n",
    "    df3 = df.copy()\n",
    "    \n",
    "    # Quickly check if the entire column is bad\n",
    "    lowMax = []\n",
    "    for column in df3.columns:\n",
    "        if df3[column].max() < 0.00001:\n",
    "            lowMax.append(column)\n",
    "    #Drop bad columns\n",
    "    df4 = df3.drop(columns=lowMax).copy()\n",
    "    \n",
    "    #Create new dataframe and check noise levels\n",
    "    thresh=0.00001\n",
    "    df5 = df4.apply(lambda x: x.where(x > thresh, 0), axis=0).copy()\n",
    "                \n",
    "    return(df5)"
   ]
  },
  {
   "cell_type": "code",
   "execution_count": 4,
   "id": "a19f8729",
   "metadata": {},
   "outputs": [
    {
     "name": "stdout",
     "output_type": "stream",
     "text": [
      "(48, 154)\n",
      "(48, 189)\n"
     ]
    }
   ],
   "source": [
    "df0 = df[df['diagnosis']==0]\n",
    "df1 = df[df['diagnosis']==1]\n",
    "df0 = df0.drop(['diagnosis'], axis=1)\n",
    "df1 = df1.drop(['diagnosis'], axis=1)\n",
    "df0 = filterNoise(df0)\n",
    "df1 = filterNoise(df1)\n",
    "print(df0.shape)\n",
    "print(df1.shape)"
   ]
  },
  {
   "cell_type": "code",
   "execution_count": 5,
   "id": "83518786-559c-4624-9f1a-6dae6eb583c5",
   "metadata": {},
   "outputs": [],
   "source": [
    "def prevalenceFilter(df):\n",
    "    dfo = df.copy()\n",
    "    dfo.replace(0.0, np.nan, inplace=True)\n",
    "    dfo.dropna(axis=1, how='any', thresh=round(len(dfo.index)*.1), inplace=True)\n",
    "    dfo.fillna(0.0, inplace=True)\n",
    "    dfo2 = dfo.div(dfo.sum(axis=1), axis=0).copy()            \n",
    "    return(dfo2)"
   ]
  },
  {
   "cell_type": "code",
   "execution_count": 6,
   "id": "69ff7a54-c4b2-4cde-8888-891fc6d4005f",
   "metadata": {},
   "outputs": [
    {
     "name": "stdout",
     "output_type": "stream",
     "text": [
      "(48, 97)\n",
      "(48, 100)\n"
     ]
    }
   ],
   "source": [
    "df0clean = prevalenceFilter(df0)\n",
    "df1clean = prevalenceFilter(df1)\n",
    "print(df0clean.shape)\n",
    "print(df1clean.shape)"
   ]
  },
  {
   "cell_type": "markdown",
   "id": "1e2161b1",
   "metadata": {},
   "source": [
    "## Get Union of Species"
   ]
  },
  {
   "cell_type": "code",
   "execution_count": 7,
   "id": "c5f3484b-7606-48db-9d5d-57182aca99a7",
   "metadata": {},
   "outputs": [
    {
     "data": {
      "text/plain": [
       "100"
      ]
     },
     "execution_count": 7,
     "metadata": {},
     "output_type": "execute_result"
    }
   ],
   "source": [
    "uniquespecies = set(list(df0clean.columns)+list(df1clean.columns))\n",
    "uniquespecies.remove('k__Bacteria;p__Fusobacteria;c__Fusobacteriia;o__Fusobacteriales;f__Fusobacteriaceae;g__Fusobacterium')\n",
    "uniquespecies.remove('k__Bacteria;p__Lentisphaerae;c__Lentisphaeria;o__Victivallales;f__Victivallaceae;g__Victivallis')\n",
    "uniquespecies.remove('k__Bacteria;p__Verrucomicrobia;c__Verrucomicrobiae;o__Verrucomicrobiales;f__Verrucomicrobiaceae;g__Akkermansia')\n",
    "len(uniquespecies)"
   ]
  },
  {
   "cell_type": "code",
   "execution_count": 8,
   "id": "d184cd39-be13-4cce-9974-8c972b77412e",
   "metadata": {},
   "outputs": [
    {
     "name": "stdout",
     "output_type": "stream",
     "text": [
      "(48, 100)\n",
      "(48, 100)\n"
     ]
    }
   ],
   "source": [
    "df0clean = df[df['diagnosis']==0][list(uniquespecies)]\n",
    "df1clean = df[df['diagnosis']==1][list(uniquespecies)]\n",
    "print(df0clean.shape)\n",
    "print(df1clean.shape)"
   ]
  },
  {
   "cell_type": "markdown",
   "id": "d4927fa8",
   "metadata": {},
   "source": [
    "## CLR Transform"
   ]
  },
  {
   "cell_type": "code",
   "execution_count": 9,
   "id": "f96994be-9aab-472a-b2d4-3f45d17351d5",
   "metadata": {},
   "outputs": [
    {
     "name": "stdout",
     "output_type": "stream",
     "text": [
      "(48, 100) (48, 100)\n"
     ]
    }
   ],
   "source": [
    "df0final = df0clean.copy()\n",
    "df1final = df1clean.copy()\n",
    "for row in df0clean.index:\n",
    "    df0final.loc[row] = clr(np.array(df0clean.loc[row].replace(0.0, 1e-10)))\n",
    "    \n",
    "for row in df1clean.index:\n",
    "    df1final.loc[row] = clr(np.array(df1clean.loc[row].replace(0.0, 1e-10)))\n",
    "    \n",
    "print(df0final.shape, df1final.shape)"
   ]
  },
  {
   "cell_type": "code",
   "execution_count": 10,
   "id": "50d6fba0-7a69-4a69-b12c-d12ae25dac30",
   "metadata": {},
   "outputs": [],
   "source": [
    "df0final.to_csv('data/healthy_clr.csv', index=False)\n",
    "df1final.to_csv('data/schizo_clr.csv', index=False)"
   ]
  },
  {
   "cell_type": "markdown",
   "id": "89c3c406",
   "metadata": {},
   "source": [
    "# Now Construct Partial Correlation Matrix with R Scripts"
   ]
  }
 ],
 "metadata": {
  "kernelspec": {
   "display_name": "Python 3.9.7 ('base')",
   "language": "python",
   "name": "python3"
  },
  "language_info": {
   "codemirror_mode": {
    "name": "ipython",
    "version": 3
   },
   "file_extension": ".py",
   "mimetype": "text/x-python",
   "name": "python",
   "nbconvert_exporter": "python",
   "pygments_lexer": "ipython3",
   "version": "3.9.12"
  },
  "vscode": {
   "interpreter": {
    "hash": "874d09ff6c0d950fd4fb409d1c762e7256626cd3bca414112760ab7b12f9e308"
   }
  }
 },
 "nbformat": 4,
 "nbformat_minor": 5
}
