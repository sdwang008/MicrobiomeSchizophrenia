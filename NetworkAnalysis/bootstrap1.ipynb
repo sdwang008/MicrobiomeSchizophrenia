{
 "cells": [
  {
   "cell_type": "markdown",
   "metadata": {},
   "source": [
    "## Setup"
   ]
  },
  {
   "cell_type": "code",
   "execution_count": 1,
   "metadata": {},
   "outputs": [],
   "source": [
    "%matplotlib inline\n",
    "import pandas as pd\n",
    "import matplotlib.pyplot as plt\n",
    "import numpy as np\n",
    "import networkx as nx\n",
    "import itertools\n",
    "from collections import Counter\n",
    "from networkx.drawing.nx_agraph import graphviz_layout\n",
    "from skbio.stats.composition import ilr\n",
    "from skbio.stats.composition import clr\n",
    "from skbio.stats.composition import multiplicative_replacement\n",
    "import seaborn as sns\n",
    "from matplotlib import rcParams\n",
    "import os\n",
    "sns.set()\n",
    "sns.set(font_scale=1.5)"
   ]
  },
  {
   "cell_type": "markdown",
   "metadata": {},
   "source": [
    "## Bootstrap Sampling"
   ]
  },
  {
   "cell_type": "code",
   "execution_count": 2,
   "metadata": {},
   "outputs": [],
   "source": [
    "df = pd.read_csv('data/genus-table-final.csv', header=0)"
   ]
  },
  {
   "cell_type": "code",
   "execution_count": 3,
   "metadata": {},
   "outputs": [
    {
     "name": "stderr",
     "output_type": "stream",
     "text": [
      "C:\\Users\\sdwan\\AppData\\Local\\Temp\\ipykernel_28888\\4158300327.py:3: SettingWithCopyWarning: \n",
      "A value is trying to be set on a copy of a slice from a DataFrame\n",
      "\n",
      "See the caveats in the documentation: https://pandas.pydata.org/pandas-docs/stable/user_guide/indexing.html#returning-a-view-versus-a-copy\n",
      "  df0.drop([\"diagnosis\"], axis=1, inplace=True)\n",
      "C:\\Users\\sdwan\\AppData\\Local\\Temp\\ipykernel_28888\\4158300327.py:4: SettingWithCopyWarning: \n",
      "A value is trying to be set on a copy of a slice from a DataFrame\n",
      "\n",
      "See the caveats in the documentation: https://pandas.pydata.org/pandas-docs/stable/user_guide/indexing.html#returning-a-view-versus-a-copy\n",
      "  df1.drop([\"diagnosis\"], axis=1, inplace=True)\n"
     ]
    }
   ],
   "source": [
    "df0 = df[df['diagnosis']==0]\n",
    "df1 = df[df['diagnosis']==1]\n",
    "df0.drop([\"diagnosis\"], axis=1, inplace=True)\n",
    "df1.drop([\"diagnosis\"], axis=1, inplace=True)\n",
    "\n",
    "bootstrap_n = 100\n",
    "df0s = [df0.sample(frac=1, replace=True) for i in range(bootstrap_n)]\n",
    "df1s = [df1.sample(frac=1, replace=True) for i in range(bootstrap_n)]"
   ]
  },
  {
   "cell_type": "markdown",
   "metadata": {},
   "source": [
    "## Filter the Sampled Tables"
   ]
  },
  {
   "cell_type": "code",
   "execution_count": 4,
   "metadata": {},
   "outputs": [],
   "source": [
    "def filterNoise(df):\n",
    "    df3 = df.copy()\n",
    "    \n",
    "    # Quickly check if the entire column is bad\n",
    "    lowMax = []\n",
    "    for column in df3.columns:\n",
    "        if df3[column].max() < 0.00001:\n",
    "            lowMax.append(column)\n",
    "    #Drop bad columns\n",
    "    df4 = df3.drop(columns=lowMax).copy()\n",
    "    \n",
    "    #Create new dataframe and check noise levels\n",
    "    thresh=0.00001\n",
    "    df5 = df4.apply(lambda x: x.where(x > thresh, 0), axis=0).copy()\n",
    "                \n",
    "    return(df5)"
   ]
  },
  {
   "cell_type": "code",
   "execution_count": 5,
   "metadata": {},
   "outputs": [],
   "source": [
    "def prevalenceFilter(df):\n",
    "    dfo = df.copy()\n",
    "    dfo.replace(0.0, np.nan, inplace=True)\n",
    "    dfo.dropna(axis=1, how='any', thresh=round(len(dfo.index)*.1), inplace=True)\n",
    "    dfo.fillna(0.0, inplace=True)\n",
    "    dfo2 = dfo.div(dfo.sum(axis=1), axis=0).copy()            \n",
    "    return(dfo2)"
   ]
  },
  {
   "cell_type": "code",
   "execution_count": 6,
   "metadata": {},
   "outputs": [],
   "source": [
    "for i in range(bootstrap_n):\n",
    "    df0s[i] = filterNoise(df0s[i])\n",
    "    df0s[i] = prevalenceFilter(df0s[i])\n",
    "    df1s[i] = filterNoise(df1s[i])\n",
    "    df1s[i] = prevalenceFilter(df1s[i])"
   ]
  },
  {
   "cell_type": "code",
   "execution_count": 8,
   "metadata": {},
   "outputs": [],
   "source": [
    "os.mkdir(\"df0tables\")\n",
    "os.mkdir(\"df1tables\")\n",
    "for i in range(bootstrap_n):\n",
    "    df0s[i].to_csv(\"df0tables/df0_table\"+str(i)+\".csv\", index=False)\n",
    "    df1s[i].to_csv(\"df1tables/df1_table\"+str(i)+\".csv\", index=False)"
   ]
  },
  {
   "cell_type": "markdown",
   "metadata": {},
   "source": [
    "## Apply clr Transformation to the Tables"
   ]
  },
  {
   "cell_type": "code",
   "execution_count": null,
   "metadata": {},
   "outputs": [],
   "source": [
    "for i in range(bootstrap_n):\n",
    "    n = df0s[i].shape[0]\n",
    "    for row in range(n):\n",
    "        df0s[i].iloc[row] = clr(np.array(df0s[i].iloc[row].replace(0.0, 1e-10)))\n",
    "        df1s[i].iloc[row] = clr(np.array(df1s[i].iloc[row].replace(0.0, 1e-10)))"
   ]
  },
  {
   "cell_type": "code",
   "execution_count": null,
   "metadata": {},
   "outputs": [],
   "source": [
    "os.mkdir(\"df0clrs\")\n",
    "os.mkdir(\"df1clrs\")\n",
    "for i in range(bootstrap_n):\n",
    "    df0s[i].to_csv(\"df0clrs/df0_clr\"+str(i)+\".csv\", index=False)\n",
    "    df1s[i].to_csv(\"df1clrs/df1_clr\"+str(i)+\".csv\", index=False)"
   ]
  },
  {
   "cell_type": "markdown",
   "metadata": {},
   "source": [
    "# Create PCors with R Script and Proceed to Notebook 2"
   ]
  }
 ],
 "metadata": {
  "kernelspec": {
   "display_name": "Python 3.9.7 ('base')",
   "language": "python",
   "name": "python3"
  },
  "language_info": {
   "codemirror_mode": {
    "name": "ipython",
    "version": 3
   },
   "file_extension": ".py",
   "mimetype": "text/x-python",
   "name": "python",
   "nbconvert_exporter": "python",
   "pygments_lexer": "ipython3",
   "version": "3.9.12"
  },
  "orig_nbformat": 4,
  "vscode": {
   "interpreter": {
    "hash": "874d09ff6c0d950fd4fb409d1c762e7256626cd3bca414112760ab7b12f9e308"
   }
  }
 },
 "nbformat": 4,
 "nbformat_minor": 2
}
